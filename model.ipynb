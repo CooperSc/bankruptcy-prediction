{
 "cells": [
  {
   "cell_type": "code",
   "execution_count": 4,
   "metadata": {},
   "outputs": [],
   "source": [
    "import numpy as np\n",
    "import pandas as pd\n",
    "import seaborn as sns\n",
    "import matplotlib.pyplot as plt\n",
    "\n",
    "# load data\n",
    "train = pd.read_csv('./data/train.csv')\n",
    "test = pd.read_csv('./data/test.csv')"
   ]
  },
  {
   "cell_type": "code",
   "execution_count": 5,
   "metadata": {},
   "outputs": [],
   "source": [
    "test.head()\n",
    "\n",
    "y_test = test['Bankrupt?']\n",
    "X_test = test.drop(['Bankrupt?'], axis=1)"
   ]
  },
  {
   "cell_type": "code",
   "execution_count": 7,
   "metadata": {},
   "outputs": [
    {
     "name": "stdout",
     "output_type": "stream",
     "text": [
      "Accuracy with naive bayes: 0.06598240469208211\n",
      "Accuracy with MultinomialNB : 0.7954545454545454\n",
      "Accuracy with ComplementNB : 0.7954545454545454\n",
      "Accuracy with BernoulliNB : 0.9655425219941349\n",
      "Accuracy with DecisionTreeClassifier : 0.9442815249266863\n",
      "Accuracy with RandomForestClassifier : 0.966275659824047\n",
      "Accuracy with KNeighborsClassifier : 0.9618768328445748\n",
      "Accuracy with SVC : 0.9626099706744868\n"
     ]
    }
   ],
   "source": [
    "from sklearn.naive_bayes import GaussianNB\n",
    "\n",
    "# set bankrupt as target\n",
    "y_train = train['Bankrupt?']\n",
    "X_train = train.drop(['Bankrupt?'], axis=1)\n",
    "\n",
    "# # fit model\n",
    "model = GaussianNB()\n",
    "model.fit(X_train, y_train)\n",
    "\n",
    "# # predict\n",
    "y_pred = model.predict(X_test)\n",
    "\n",
    "# print accuracy\n",
    "from sklearn.metrics import accuracy_score\n",
    "print('Accuracy with naive bayes:', accuracy_score(y_test, y_pred))\n",
    "\n",
    "# try multiple models\n",
    "from sklearn.tree import DecisionTreeClassifier\n",
    "from sklearn.ensemble import RandomForestClassifier\n",
    "from sklearn.neighbors import KNeighborsClassifier\n",
    "from sklearn.naive_bayes import MultinomialNB\n",
    "from sklearn.naive_bayes import ComplementNB\n",
    "from sklearn.naive_bayes import BernoulliNB\n",
    "from sklearn.svm import SVC\n",
    "\n",
    "models = [\n",
    "    MultinomialNB(),\n",
    "    ComplementNB(),\n",
    "    BernoulliNB(),\n",
    "    DecisionTreeClassifier(),\n",
    "    RandomForestClassifier(),\n",
    "    KNeighborsClassifier(),\n",
    "    SVC()\n",
    "]\n",
    "\n",
    "for model in models:\n",
    "    model.fit(X_train, y_train)\n",
    "    y_pred = model.predict(X_test)\n",
    "    print('Accuracy with', model.__class__.__name__,\n",
    "            ':', accuracy_score(y_test, y_pred))\n",
    "\n"
   ]
  },
  {
   "cell_type": "code",
   "execution_count": null,
   "metadata": {},
   "outputs": [],
   "source": []
  },
  {
   "cell_type": "code",
   "execution_count": null,
   "metadata": {},
   "outputs": [],
   "source": []
  }
 ],
 "metadata": {
  "kernelspec": {
   "display_name": "pytorch-nightly",
   "language": "python",
   "name": "python3"
  },
  "language_info": {
   "codemirror_mode": {
    "name": "ipython",
    "version": 3
   },
   "file_extension": ".py",
   "mimetype": "text/x-python",
   "name": "python",
   "nbconvert_exporter": "python",
   "pygments_lexer": "ipython3",
   "version": "3.8.13"
  },
  "orig_nbformat": 4,
  "vscode": {
   "interpreter": {
    "hash": "dfa1a912acab427197be583ac387989daee475711c19389976a53aba583a25ae"
   }
  }
 },
 "nbformat": 4,
 "nbformat_minor": 2
}
